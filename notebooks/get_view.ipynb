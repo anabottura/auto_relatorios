{
 "cells": [
  {
   "cell_type": "code",
   "execution_count": 1,
   "metadata": {},
   "outputs": [],
   "source": [
    "import requests\n",
    "import pandas as pd"
   ]
  },
  {
   "cell_type": "code",
   "execution_count": 2,
   "metadata": {},
   "outputs": [],
   "source": [
    "nome_area = 'RECANTO VERDE II'\n",
    "sigla_area = 'SM-05'"
   ]
  },
  {
   "cell_type": "code",
   "execution_count": 3,
   "metadata": {},
   "outputs": [],
   "source": [
    "colours = pd.Series({'R1':'#4FC26A','R2':'#F0E113','R3':'#FF8801','R4':'#BF243C'})\n",
    "colours.name = 'colours'\n",
    "colours.index.name = 'grau_risco'"
   ]
  },
  {
   "cell_type": "code",
   "execution_count": 4,
   "metadata": {},
   "outputs": [],
   "source": [
    "url_levantamento = f'https://uzu2spnwitelgca-db202004101957.adb.sa-saopaulo-1.oraclecloudapps.com/ords/areas_risco/Relatorios_dem/levantamento?nome_var={nome_area}&sigla_var={sigla_area}'\n",
    "r_levantamento = requests.get(url_levantamento)\n",
    "json_levantamento = r_levantamento.json()\n",
    "lev = pd.DataFrame(json_levantamento['items'])"
   ]
  },
  {
   "cell_type": "code",
   "execution_count": 5,
   "metadata": {},
   "outputs": [
    {
     "data": {
      "text/html": [
       "<div>\n",
       "<style scoped>\n",
       "    .dataframe tbody tr th:only-of-type {\n",
       "        vertical-align: middle;\n",
       "    }\n",
       "\n",
       "    .dataframe tbody tr th {\n",
       "        vertical-align: top;\n",
       "    }\n",
       "\n",
       "    .dataframe thead th {\n",
       "        text-align: right;\n",
       "    }\n",
       "</style>\n",
       "<table border=\"1\" class=\"dataframe\">\n",
       "  <thead>\n",
       "    <tr style=\"text-align: right;\">\n",
       "      <th></th>\n",
       "      <th>nome</th>\n",
       "      <th>sigla</th>\n",
       "      <th>setor</th>\n",
       "      <th>grau_risco</th>\n",
       "      <th>moradias</th>\n",
       "      <th>moradores</th>\n",
       "      <th>familias</th>\n",
       "      <th>criancas</th>\n",
       "      <th>idosos</th>\n",
       "      <th>pcds</th>\n",
       "    </tr>\n",
       "  </thead>\n",
       "  <tbody>\n",
       "    <tr>\n",
       "      <th>0</th>\n",
       "      <td>RECANTO VERDE II</td>\n",
       "      <td>SM-05</td>\n",
       "      <td>SM-05-01 (R3)</td>\n",
       "      <td>R3</td>\n",
       "      <td>264</td>\n",
       "      <td>756</td>\n",
       "      <td>266</td>\n",
       "      <td>60</td>\n",
       "      <td>22</td>\n",
       "      <td>8</td>\n",
       "    </tr>\n",
       "    <tr>\n",
       "      <th>1</th>\n",
       "      <td>RECANTO VERDE II</td>\n",
       "      <td>SM-05</td>\n",
       "      <td>SM-05-02 (R3)</td>\n",
       "      <td>R3</td>\n",
       "      <td>186</td>\n",
       "      <td>560</td>\n",
       "      <td>185</td>\n",
       "      <td>37</td>\n",
       "      <td>17</td>\n",
       "      <td>2</td>\n",
       "    </tr>\n",
       "    <tr>\n",
       "      <th>2</th>\n",
       "      <td>RECANTO VERDE II</td>\n",
       "      <td>SM-05</td>\n",
       "      <td>SM-05-03 (R2)</td>\n",
       "      <td>R2</td>\n",
       "      <td>845</td>\n",
       "      <td>2482</td>\n",
       "      <td>846</td>\n",
       "      <td>181</td>\n",
       "      <td>74</td>\n",
       "      <td>17</td>\n",
       "    </tr>\n",
       "    <tr>\n",
       "      <th>3</th>\n",
       "      <td>RECANTO VERDE II</td>\n",
       "      <td>SM-05</td>\n",
       "      <td>SM-05-04 (R2)</td>\n",
       "      <td>R2</td>\n",
       "      <td>667</td>\n",
       "      <td>1959</td>\n",
       "      <td>668</td>\n",
       "      <td>143</td>\n",
       "      <td>59</td>\n",
       "      <td>14</td>\n",
       "    </tr>\n",
       "    <tr>\n",
       "      <th>4</th>\n",
       "      <td>RECANTO VERDE II</td>\n",
       "      <td>SM-05</td>\n",
       "      <td>SM-05-05 (R1)</td>\n",
       "      <td>R1</td>\n",
       "      <td>1109</td>\n",
       "      <td>3257</td>\n",
       "      <td>1111</td>\n",
       "      <td>238</td>\n",
       "      <td>98</td>\n",
       "      <td>23</td>\n",
       "    </tr>\n",
       "  </tbody>\n",
       "</table>\n",
       "</div>"
      ],
      "text/plain": [
       "               nome  sigla          setor grau_risco  moradias  moradores  \\\n",
       "0  RECANTO VERDE II  SM-05  SM-05-01 (R3)         R3       264        756   \n",
       "1  RECANTO VERDE II  SM-05  SM-05-02 (R3)         R3       186        560   \n",
       "2  RECANTO VERDE II  SM-05  SM-05-03 (R2)         R2       845       2482   \n",
       "3  RECANTO VERDE II  SM-05  SM-05-04 (R2)         R2       667       1959   \n",
       "4  RECANTO VERDE II  SM-05  SM-05-05 (R1)         R1      1109       3257   \n",
       "\n",
       "   familias  criancas  idosos  pcds  \n",
       "0       266        60      22     8  \n",
       "1       185        37      17     2  \n",
       "2       846       181      74    17  \n",
       "3       668       143      59    14  \n",
       "4      1111       238      98    23  "
      ]
     },
     "execution_count": 5,
     "metadata": {},
     "output_type": "execute_result"
    }
   ],
   "source": [
    "lev"
   ]
  },
  {
   "cell_type": "code",
   "execution_count": 6,
   "metadata": {},
   "outputs": [
    {
     "data": {
      "text/html": [
       "<div>\n",
       "<style scoped>\n",
       "    .dataframe tbody tr th:only-of-type {\n",
       "        vertical-align: middle;\n",
       "    }\n",
       "\n",
       "    .dataframe tbody tr th {\n",
       "        vertical-align: top;\n",
       "    }\n",
       "\n",
       "    .dataframe thead th {\n",
       "        text-align: right;\n",
       "    }\n",
       "</style>\n",
       "<table border=\"1\" class=\"dataframe\">\n",
       "  <thead>\n",
       "    <tr style=\"text-align: right;\">\n",
       "      <th></th>\n",
       "      <th>Setor</th>\n",
       "      <th>Quantidade de Moradias</th>\n",
       "    </tr>\n",
       "  </thead>\n",
       "  <tbody>\n",
       "    <tr>\n",
       "      <th>0</th>\n",
       "      <td>SM-05-01 (R3)</td>\n",
       "      <td>264</td>\n",
       "    </tr>\n",
       "    <tr>\n",
       "      <th>1</th>\n",
       "      <td>SM-05-02 (R3)</td>\n",
       "      <td>186</td>\n",
       "    </tr>\n",
       "    <tr>\n",
       "      <th>2</th>\n",
       "      <td>SM-05-03 (R2)</td>\n",
       "      <td>845</td>\n",
       "    </tr>\n",
       "    <tr>\n",
       "      <th>3</th>\n",
       "      <td>SM-05-04 (R2)</td>\n",
       "      <td>667</td>\n",
       "    </tr>\n",
       "    <tr>\n",
       "      <th>4</th>\n",
       "      <td>SM-05-05 (R1)</td>\n",
       "      <td>1109</td>\n",
       "    </tr>\n",
       "  </tbody>\n",
       "</table>\n",
       "</div>"
      ],
      "text/plain": [
       "           Setor  Quantidade de Moradias\n",
       "0  SM-05-01 (R3)                     264\n",
       "1  SM-05-02 (R3)                     186\n",
       "2  SM-05-03 (R2)                     845\n",
       "3  SM-05-04 (R2)                     667\n",
       "4  SM-05-05 (R1)                    1109"
      ]
     },
     "execution_count": 6,
     "metadata": {},
     "output_type": "execute_result"
    }
   ],
   "source": [
    "# Get data for Moradias x Setor dados_setor_moradias\n",
    "dados_setor_moradias = lev[['setor', 'moradias']]\n",
    "dados_setor_moradias.columns = ['Setor','Quantidade de Moradias']\n",
    "dados_setor_moradias"
   ]
  },
  {
   "cell_type": "code",
   "execution_count": 7,
   "metadata": {},
   "outputs": [
    {
     "data": {
      "text/html": [
       "<div>\n",
       "<style scoped>\n",
       "    .dataframe tbody tr th:only-of-type {\n",
       "        vertical-align: middle;\n",
       "    }\n",
       "\n",
       "    .dataframe tbody tr th {\n",
       "        vertical-align: top;\n",
       "    }\n",
       "\n",
       "    .dataframe thead th {\n",
       "        text-align: right;\n",
       "    }\n",
       "</style>\n",
       "<table border=\"1\" class=\"dataframe\">\n",
       "  <thead>\n",
       "    <tr style=\"text-align: right;\">\n",
       "      <th></th>\n",
       "      <th>Risco</th>\n",
       "      <th>Quantidade de Moradias</th>\n",
       "      <th>colours</th>\n",
       "    </tr>\n",
       "  </thead>\n",
       "  <tbody>\n",
       "    <tr>\n",
       "      <th>0</th>\n",
       "      <td>R1</td>\n",
       "      <td>1109</td>\n",
       "      <td>#4FC26A</td>\n",
       "    </tr>\n",
       "    <tr>\n",
       "      <th>1</th>\n",
       "      <td>R2</td>\n",
       "      <td>1512</td>\n",
       "      <td>#F0E113</td>\n",
       "    </tr>\n",
       "    <tr>\n",
       "      <th>2</th>\n",
       "      <td>R3</td>\n",
       "      <td>450</td>\n",
       "      <td>#FF8801</td>\n",
       "    </tr>\n",
       "  </tbody>\n",
       "</table>\n",
       "</div>"
      ],
      "text/plain": [
       "  Risco  Quantidade de Moradias  colours\n",
       "0    R1                    1109  #4FC26A\n",
       "1    R2                    1512  #F0E113\n",
       "2    R3                     450  #FF8801"
      ]
     },
     "execution_count": 7,
     "metadata": {},
     "output_type": "execute_result"
    }
   ],
   "source": [
    "# Get data for Moradias x Risco dados_risco_moradias\n",
    "dados_risco_moradias = lev[['grau_risco', 'moradias']].groupby('grau_risco').sum().reset_index()\n",
    "dados_risco_moradias.columns = ['Risco','Quantidade de Moradias']\n",
    "dados_risco_moradias = pd.merge(dados_risco_moradias, colours, left_on='Risco', right_index=True)\n",
    "dados_risco_moradias\n",
    "    "
   ]
  },
  {
   "cell_type": "code",
   "execution_count": 8,
   "metadata": {},
   "outputs": [
    {
     "data": {
      "text/html": [
       "<div>\n",
       "<style scoped>\n",
       "    .dataframe tbody tr th:only-of-type {\n",
       "        vertical-align: middle;\n",
       "    }\n",
       "\n",
       "    .dataframe tbody tr th {\n",
       "        vertical-align: top;\n",
       "    }\n",
       "\n",
       "    .dataframe thead th {\n",
       "        text-align: right;\n",
       "    }\n",
       "</style>\n",
       "<table border=\"1\" class=\"dataframe\">\n",
       "  <thead>\n",
       "    <tr style=\"text-align: right;\">\n",
       "      <th></th>\n",
       "      <th>Setor</th>\n",
       "      <th>Quantidade de Moradores</th>\n",
       "    </tr>\n",
       "  </thead>\n",
       "  <tbody>\n",
       "    <tr>\n",
       "      <th>0</th>\n",
       "      <td>SM-05-01 (R3)</td>\n",
       "      <td>756</td>\n",
       "    </tr>\n",
       "    <tr>\n",
       "      <th>1</th>\n",
       "      <td>SM-05-02 (R3)</td>\n",
       "      <td>560</td>\n",
       "    </tr>\n",
       "    <tr>\n",
       "      <th>2</th>\n",
       "      <td>SM-05-03 (R2)</td>\n",
       "      <td>2482</td>\n",
       "    </tr>\n",
       "    <tr>\n",
       "      <th>3</th>\n",
       "      <td>SM-05-04 (R2)</td>\n",
       "      <td>1959</td>\n",
       "    </tr>\n",
       "    <tr>\n",
       "      <th>4</th>\n",
       "      <td>SM-05-05 (R1)</td>\n",
       "      <td>3257</td>\n",
       "    </tr>\n",
       "  </tbody>\n",
       "</table>\n",
       "</div>"
      ],
      "text/plain": [
       "           Setor  Quantidade de Moradores\n",
       "0  SM-05-01 (R3)                      756\n",
       "1  SM-05-02 (R3)                      560\n",
       "2  SM-05-03 (R2)                     2482\n",
       "3  SM-05-04 (R2)                     1959\n",
       "4  SM-05-05 (R1)                     3257"
      ]
     },
     "execution_count": 8,
     "metadata": {},
     "output_type": "execute_result"
    }
   ],
   "source": [
    "# Get data for Moradores x Setor dados_setor_moradores\n",
    "dados_setor_moradores = lev[['setor', 'moradores']]\n",
    "dados_setor_moradores.columns = ['Setor','Quantidade de Moradores']\n",
    "dados_setor_moradores"
   ]
  },
  {
   "cell_type": "code",
   "execution_count": 9,
   "metadata": {},
   "outputs": [
    {
     "data": {
      "text/plain": [
       "Index(['R1', 'R2', 'R3', 'R4'], dtype='object', name='grau_risco')"
      ]
     },
     "execution_count": 9,
     "metadata": {},
     "output_type": "execute_result"
    }
   ],
   "source": [
    "colours.keys()"
   ]
  },
  {
   "cell_type": "code",
   "execution_count": 10,
   "metadata": {},
   "outputs": [
    {
     "data": {
      "text/html": [
       "<div>\n",
       "<style scoped>\n",
       "    .dataframe tbody tr th:only-of-type {\n",
       "        vertical-align: middle;\n",
       "    }\n",
       "\n",
       "    .dataframe tbody tr th {\n",
       "        vertical-align: top;\n",
       "    }\n",
       "\n",
       "    .dataframe thead th {\n",
       "        text-align: right;\n",
       "    }\n",
       "</style>\n",
       "<table border=\"1\" class=\"dataframe\">\n",
       "  <thead>\n",
       "    <tr style=\"text-align: right;\">\n",
       "      <th></th>\n",
       "      <th>moradores</th>\n",
       "    </tr>\n",
       "    <tr>\n",
       "      <th>grau_risco</th>\n",
       "      <th></th>\n",
       "    </tr>\n",
       "  </thead>\n",
       "  <tbody>\n",
       "    <tr>\n",
       "      <th>R1</th>\n",
       "      <td>3257</td>\n",
       "    </tr>\n",
       "    <tr>\n",
       "      <th>R2</th>\n",
       "      <td>4441</td>\n",
       "    </tr>\n",
       "    <tr>\n",
       "      <th>R3</th>\n",
       "      <td>1316</td>\n",
       "    </tr>\n",
       "  </tbody>\n",
       "</table>\n",
       "</div>"
      ],
      "text/plain": [
       "            moradores\n",
       "grau_risco           \n",
       "R1               3257\n",
       "R2               4441\n",
       "R3               1316"
      ]
     },
     "execution_count": 10,
     "metadata": {},
     "output_type": "execute_result"
    }
   ],
   "source": [
    "# Get data for Moradores x Risco\n",
    "lev[['grau_risco', 'moradores']].groupby('grau_risco').sum()"
   ]
  },
  {
   "cell_type": "code",
   "execution_count": 11,
   "metadata": {},
   "outputs": [
    {
     "data": {
      "text/html": [
       "<div>\n",
       "<style scoped>\n",
       "    .dataframe tbody tr th:only-of-type {\n",
       "        vertical-align: middle;\n",
       "    }\n",
       "\n",
       "    .dataframe tbody tr th {\n",
       "        vertical-align: top;\n",
       "    }\n",
       "\n",
       "    .dataframe thead th {\n",
       "        text-align: right;\n",
       "    }\n",
       "</style>\n",
       "<table border=\"1\" class=\"dataframe\">\n",
       "  <thead>\n",
       "    <tr style=\"text-align: right;\">\n",
       "      <th></th>\n",
       "      <th>grau_risco</th>\n",
       "      <th>colours</th>\n",
       "    </tr>\n",
       "  </thead>\n",
       "  <tbody>\n",
       "    <tr>\n",
       "      <th>0</th>\n",
       "      <td>R1</td>\n",
       "      <td>#4FC26A</td>\n",
       "    </tr>\n",
       "    <tr>\n",
       "      <th>1</th>\n",
       "      <td>R2</td>\n",
       "      <td>#F0E113</td>\n",
       "    </tr>\n",
       "    <tr>\n",
       "      <th>2</th>\n",
       "      <td>R3</td>\n",
       "      <td>#FF8801</td>\n",
       "    </tr>\n",
       "    <tr>\n",
       "      <th>3</th>\n",
       "      <td>R4</td>\n",
       "      <td>#BF243C</td>\n",
       "    </tr>\n",
       "  </tbody>\n",
       "</table>\n",
       "</div>"
      ],
      "text/plain": [
       "  grau_risco  colours\n",
       "0         R1  #4FC26A\n",
       "1         R2  #F0E113\n",
       "2         R3  #FF8801\n",
       "3         R4  #BF243C"
      ]
     },
     "execution_count": 11,
     "metadata": {},
     "output_type": "execute_result"
    }
   ],
   "source": [
    "colours.reset_index()"
   ]
  },
  {
   "cell_type": "code",
   "execution_count": 12,
   "metadata": {},
   "outputs": [
    {
     "data": {
      "text/html": [
       "<div>\n",
       "<style scoped>\n",
       "    .dataframe tbody tr th:only-of-type {\n",
       "        vertical-align: middle;\n",
       "    }\n",
       "\n",
       "    .dataframe tbody tr th {\n",
       "        vertical-align: top;\n",
       "    }\n",
       "\n",
       "    .dataframe thead th {\n",
       "        text-align: right;\n",
       "    }\n",
       "</style>\n",
       "<table border=\"1\" class=\"dataframe\">\n",
       "  <thead>\n",
       "    <tr style=\"text-align: right;\">\n",
       "      <th></th>\n",
       "      <th>grau_risco</th>\n",
       "      <th>moradores</th>\n",
       "    </tr>\n",
       "  </thead>\n",
       "  <tbody>\n",
       "    <tr>\n",
       "      <th>0</th>\n",
       "      <td>R1</td>\n",
       "      <td>3257</td>\n",
       "    </tr>\n",
       "    <tr>\n",
       "      <th>1</th>\n",
       "      <td>R2</td>\n",
       "      <td>4441</td>\n",
       "    </tr>\n",
       "    <tr>\n",
       "      <th>2</th>\n",
       "      <td>R3</td>\n",
       "      <td>1316</td>\n",
       "    </tr>\n",
       "  </tbody>\n",
       "</table>\n",
       "</div>"
      ],
      "text/plain": [
       "  grau_risco  moradores\n",
       "0         R1       3257\n",
       "1         R2       4441\n",
       "2         R3       1316"
      ]
     },
     "execution_count": 12,
     "metadata": {},
     "output_type": "execute_result"
    }
   ],
   "source": [
    "lev[['grau_risco', 'moradores']].groupby('grau_risco').sum().reset_index()"
   ]
  },
  {
   "cell_type": "code",
   "execution_count": 13,
   "metadata": {},
   "outputs": [
    {
     "data": {
      "text/plain": [
       "{'R1': 3257, 'R2': 4441, 'R3': 1316, 'R4': 0}"
      ]
     },
     "execution_count": 13,
     "metadata": {},
     "output_type": "execute_result"
    }
   ],
   "source": [
    "risco_df_moradores = pd.merge(colours.reset_index()['grau_risco'], lev[['grau_risco', 'moradores']].groupby('grau_risco').sum().reset_index(), how='left')\n",
    "risco_df_moradores.fillna(0, inplace=True)\n",
    "risco_df_moradores['moradores'] = risco_df_moradores['moradores'].astype(int)\n",
    "risco_df_moradores.set_index('grau_risco').to_dict()['moradores']"
   ]
  },
  {
   "cell_type": "code",
   "execution_count": 14,
   "metadata": {},
   "outputs": [],
   "source": [
    "dados = {}"
   ]
  },
  {
   "cell_type": "code",
   "execution_count": 15,
   "metadata": {},
   "outputs": [],
   "source": [
    "#dados['total_familias'] = get_familias(dados_fichas_uma_area)\n",
    "\n",
    "dados['total_familias'] = lev['familias'].sum()"
   ]
  },
  {
   "cell_type": "code",
   "execution_count": 16,
   "metadata": {},
   "outputs": [],
   "source": [
    "#     dados['total_criancas'] = dados_fichas_uma_area['CRIANCA_CSA'].sum()\n",
    "dados['total_criancas'] = lev['criancas'].sum()"
   ]
  },
  {
   "cell_type": "code",
   "execution_count": 17,
   "metadata": {},
   "outputs": [],
   "source": [
    "dados['total_idosos'] = lev['idosos'].sum()\n",
    "dados['total_pcds'] = lev['pcds'].sum()"
   ]
  },
  {
   "cell_type": "code",
   "execution_count": 26,
   "metadata": {},
   "outputs": [],
   "source": [
    "risco_df_moradias = dados_risco_moradias.drop(columns='colours')\n",
    "risco_df_moradias.columns = ['grau_risco', 'moradias']"
   ]
  },
  {
   "cell_type": "code",
   "execution_count": 41,
   "metadata": {},
   "outputs": [
    {
     "data": {
      "text/html": [
       "<div>\n",
       "<style scoped>\n",
       "    .dataframe tbody tr th:only-of-type {\n",
       "        vertical-align: middle;\n",
       "    }\n",
       "\n",
       "    .dataframe tbody tr th {\n",
       "        vertical-align: top;\n",
       "    }\n",
       "\n",
       "    .dataframe thead th {\n",
       "        text-align: right;\n",
       "    }\n",
       "</style>\n",
       "<table border=\"1\" class=\"dataframe\">\n",
       "  <thead>\n",
       "    <tr style=\"text-align: right;\">\n",
       "      <th></th>\n",
       "      <th>Moradias</th>\n",
       "      <th>Habitantes</th>\n",
       "    </tr>\n",
       "    <tr>\n",
       "      <th>grau_risco</th>\n",
       "      <th></th>\n",
       "      <th></th>\n",
       "    </tr>\n",
       "  </thead>\n",
       "  <tbody>\n",
       "    <tr>\n",
       "      <th>R1</th>\n",
       "      <td>3257</td>\n",
       "      <td>1109</td>\n",
       "    </tr>\n",
       "    <tr>\n",
       "      <th>R2</th>\n",
       "      <td>4441</td>\n",
       "      <td>1512</td>\n",
       "    </tr>\n",
       "    <tr>\n",
       "      <th>R3</th>\n",
       "      <td>1316</td>\n",
       "      <td>450</td>\n",
       "    </tr>\n",
       "    <tr>\n",
       "      <th>R4</th>\n",
       "      <td>0</td>\n",
       "      <td>0</td>\n",
       "    </tr>\n",
       "  </tbody>\n",
       "</table>\n",
       "</div>"
      ],
      "text/plain": [
       "            Moradias  Habitantes\n",
       "grau_risco                      \n",
       "R1              3257        1109\n",
       "R2              4441        1512\n",
       "R3              1316         450\n",
       "R4                 0           0"
      ]
     },
     "execution_count": 41,
     "metadata": {},
     "output_type": "execute_result"
    }
   ],
   "source": [
    "dados['risco_df'] = risco_df_moradores.merge(risco_df_moradias, how='left').set_index('grau_risco')\n",
    "dados['risco_df'].columns = ['Moradias', 'Habitantes']\n",
    "dados['risco_df'].fillna(0, inplace=True)\n",
    "dados['risco_df']['Habitantes'] = dados['risco_df']['Habitantes'].astype(int)\n",
    "dados['risco_df']"
   ]
  }
 ],
 "metadata": {
  "kernelspec": {
   "display_name": "env",
   "language": "python",
   "name": "python3"
  },
  "language_info": {
   "codemirror_mode": {
    "name": "ipython",
    "version": 3
   },
   "file_extension": ".py",
   "mimetype": "text/x-python",
   "name": "python",
   "nbconvert_exporter": "python",
   "pygments_lexer": "ipython3",
   "version": "3.8.3"
  }
 },
 "nbformat": 4,
 "nbformat_minor": 2
}
