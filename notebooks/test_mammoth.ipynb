{
 "cells": [
  {
   "cell_type": "code",
   "execution_count": 2,
   "metadata": {},
   "outputs": [],
   "source": [
    "import mammoth"
   ]
  },
  {
   "cell_type": "code",
   "execution_count": 5,
   "metadata": {},
   "outputs": [],
   "source": [
    "# input_filename = '/Users/anabottura/PycharmProjects/FDTE/auto_relatorios/data/docx_templates/MODELO.docx'\n",
    "input_filename = '/Users/anabottura/PycharmProjects/FDTE/auto_relatorios/data/docx_templates/ModeloCabecalho.docx'\n",
    "\n",
    "def ignore_image(image):\n",
    "    return []\n",
    "\n",
    "with open(input_filename, \"rb\") as docx_file:\n",
    "    result = mammoth.convert_to_html(docx_file, convert_image = ignore_image, ignore_empty_paragraphs=False)\n",
    "    text = result.value\n",
    "    with open('/Users/anabottura/PycharmProjects/FDTE/auto_relatorios/data/html_outputs/outputCabecalho.html', 'w', encoding=\"UTF-8\") as html_file:\n",
    "        html_file.write(text)"
   ]
  },
  {
   "cell_type": "code",
   "execution_count": null,
   "metadata": {},
   "outputs": [],
   "source": []
  }
 ],
 "metadata": {
  "kernelspec": {
   "display_name": "env",
   "language": "python",
   "name": "python3"
  },
  "language_info": {
   "codemirror_mode": {
    "name": "ipython",
    "version": 3
   },
   "file_extension": ".py",
   "mimetype": "text/x-python",
   "name": "python",
   "nbconvert_exporter": "python",
   "pygments_lexer": "ipython3",
   "version": "3.8.3"
  }
 },
 "nbformat": 4,
 "nbformat_minor": 2
}
