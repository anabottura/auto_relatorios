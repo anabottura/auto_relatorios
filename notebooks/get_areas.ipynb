{
 "cells": [
  {
   "cell_type": "code",
   "execution_count": 11,
   "metadata": {},
   "outputs": [],
   "source": [
    "import pandas as pd\n",
    "import re"
   ]
  },
  {
   "cell_type": "code",
   "execution_count": 3,
   "metadata": {},
   "outputs": [],
   "source": [
    "areas = pd.read_csv('/Users/anabottura/PycharmProjects/FDTE/auto_relatorios/data/apex_tables/report-5.csv', encoding='latin1')"
   ]
  },
  {
   "cell_type": "code",
   "execution_count": 4,
   "metadata": {},
   "outputs": [
    {
     "data": {
      "text/plain": [
       "0             Vila Bela II\n",
       "1          Cidade Ipava II\n",
       "2       Corrego Pintadinho\n",
       "3      Fazenda Da Juta III\n",
       "4      Chacara Bandeirante\n",
       "              ...         \n",
       "56             Jardim Elba\n",
       "57             Sao Vicente\n",
       "58    Parque Boa Esperanca\n",
       "59                Graficos\n",
       "60           Barrocada III\n",
       "Name: RG_RISCO, Length: 61, dtype: object"
      ]
     },
     "execution_count": 4,
     "metadata": {},
     "output_type": "execute_result"
    }
   ],
   "source": [
    "areas['RG_RISCO'].str.capitalize()\n",
    "areas['RG_RISCO'] = areas['RG_RISCO'].apply(lambda row: row.title())\n",
    "areas['RG_RISCO'] = areas['RG_RISCO'].apply(lambda row: re.sub('\\s[XIV][xvi]+$', lambda x: x[0].upper(), row))\n",
    "areas['RG_RISCO']"
   ]
  },
  {
   "cell_type": "code",
   "execution_count": 5,
   "metadata": {},
   "outputs": [
    {
     "data": {
      "text/html": [
       "<div>\n",
       "<style scoped>\n",
       "    .dataframe tbody tr th:only-of-type {\n",
       "        vertical-align: middle;\n",
       "    }\n",
       "\n",
       "    .dataframe tbody tr th {\n",
       "        vertical-align: top;\n",
       "    }\n",
       "\n",
       "    .dataframe thead th {\n",
       "        text-align: right;\n",
       "    }\n",
       "</style>\n",
       "<table border=\"1\" class=\"dataframe\">\n",
       "  <thead>\n",
       "    <tr style=\"text-align: right;\">\n",
       "      <th></th>\n",
       "      <th>RG_RISCO</th>\n",
       "    </tr>\n",
       "    <tr>\n",
       "      <th>SIGLA</th>\n",
       "      <th></th>\n",
       "    </tr>\n",
       "  </thead>\n",
       "  <tbody>\n",
       "    <tr>\n",
       "      <th>HSM-11</th>\n",
       "      <td>Vila Bela II</td>\n",
       "    </tr>\n",
       "    <tr>\n",
       "      <th>MB-60</th>\n",
       "      <td>Cidade Ipava II</td>\n",
       "    </tr>\n",
       "    <tr>\n",
       "      <th>HIQ-04</th>\n",
       "      <td>Corrego Pintadinho</td>\n",
       "    </tr>\n",
       "    <tr>\n",
       "      <th>HSB-07</th>\n",
       "      <td>Fazenda Da Juta III</td>\n",
       "    </tr>\n",
       "    <tr>\n",
       "      <th>MB-53</th>\n",
       "      <td>Chacara Bandeirante</td>\n",
       "    </tr>\n",
       "    <tr>\n",
       "      <th>...</th>\n",
       "      <td>...</td>\n",
       "    </tr>\n",
       "    <tr>\n",
       "      <th>SB-11</th>\n",
       "      <td>Jardim Elba</td>\n",
       "    </tr>\n",
       "    <tr>\n",
       "      <th>HIQ-01</th>\n",
       "      <td>Sao Vicente</td>\n",
       "    </tr>\n",
       "    <tr>\n",
       "      <th>SM-33</th>\n",
       "      <td>Parque Boa Esperanca</td>\n",
       "    </tr>\n",
       "    <tr>\n",
       "      <th>CT-06</th>\n",
       "      <td>Graficos</td>\n",
       "    </tr>\n",
       "    <tr>\n",
       "      <th>JT-21</th>\n",
       "      <td>Barrocada III</td>\n",
       "    </tr>\n",
       "  </tbody>\n",
       "</table>\n",
       "<p>61 rows × 1 columns</p>\n",
       "</div>"
      ],
      "text/plain": [
       "                    RG_RISCO\n",
       "SIGLA                       \n",
       "HSM-11          Vila Bela II\n",
       "MB-60        Cidade Ipava II\n",
       "HIQ-04    Corrego Pintadinho\n",
       "HSB-07   Fazenda Da Juta III\n",
       "MB-53    Chacara Bandeirante\n",
       "...                      ...\n",
       "SB-11            Jardim Elba\n",
       "HIQ-01           Sao Vicente\n",
       "SM-33   Parque Boa Esperanca\n",
       "CT-06               Graficos\n",
       "JT-21          Barrocada III\n",
       "\n",
       "[61 rows x 1 columns]"
      ]
     },
     "execution_count": 5,
     "metadata": {},
     "output_type": "execute_result"
    }
   ],
   "source": [
    "areas[['RG_RISCO', 'SIGLA']].set_index('SIGLA')"
   ]
  },
  {
   "cell_type": "code",
   "execution_count": 6,
   "metadata": {},
   "outputs": [
    {
     "data": {
      "text/plain": [
       "{'SIGLA': {'Vila Bela II': 'HSM-11',\n",
       "  'Cidade Ipava II': 'MB-60',\n",
       "  'Corrego Pintadinho': 'HIQ-04',\n",
       "  'Fazenda Da Juta III': 'HSB-07',\n",
       "  'Chacara Bandeirante': 'MB-53',\n",
       "  'Taquari': 'HIQ-09',\n",
       "  'Ushikichi Kamiya': 'JT-22',\n",
       "  'Tanque': 'SB-06',\n",
       "  'Parque Sao Jose IV': 'CS-09',\n",
       "  'Iguacu': 'SB-08',\n",
       "  'Camarazal': 'BT-12',\n",
       "  'Jardim São Jorge': 'HAD-22',\n",
       "  'Jardim Hebrom': 'JT-05',\n",
       "  'Vila Praia': 'CL-21',\n",
       "  'Jardim Macedonia': 'CL-29',\n",
       "  'Francisco Munhoz Filho': 'IQ-15',\n",
       "  'Piscinao': 'SM-25',\n",
       "  'Fazendinha': 'LA-07',\n",
       "  'Murillo Machado': 'SM-23',\n",
       "  'Souza Ramos': 'CT-07',\n",
       "  'Jardim Santa Terezinha IV': 'IQ-03',\n",
       "  'Jardim Das Maravilhas I': 'CT-03',\n",
       "  'Jardim Santa Terezinha III': 'IQ-02',\n",
       "  'Bras De Abreu': 'HAD-04',\n",
       "  'Jardim Primavera II': 'HSB-03',\n",
       "  'Vila Flavia': 'SM-16',\n",
       "  'Alameda Das Roseiras': 'JT-18',\n",
       "  'Vila Ayrosa': 'JT-08',\n",
       "  'Ministro Correia De Castro': 'FO-16',\n",
       "  'Nossa Senhora Assuncao': 'BT-17',\n",
       "  'Recanto Verde I': 'SM-01',\n",
       "  'Morumbizinho': 'SM-32',\n",
       "  'Jardim Filhos Da Terra': 'JT-02',\n",
       "  'Jardim Umuarama II': 'CL-12',\n",
       "  'Jardim Martini': 'AD-22',\n",
       "  'Jardim Sao Carlos': 'HAD-21',\n",
       "  'Santa Etelvina III': 'CT-08',\n",
       "  'Engordador': 'JT-12',\n",
       "  'Jardim Solange': 'SM-31',\n",
       "  'Maria Cursi': 'SM-03',\n",
       "  'Kaei Kawahira': 'SM-29',\n",
       "  'Guaicuri II': 'HAD-25',\n",
       "  'Jardim Reboucas': 'CL-18',\n",
       "  'Recanto': 'SM-26',\n",
       "  'Rio Claro II': 'SM-21',\n",
       "  'Jardim Das Laranjeiras': 'SM-02',\n",
       "  'Jardim Jangadeiro': 'MB-33',\n",
       "  'Taquaritiba': 'JA-09',\n",
       "  'Sebastiao Afonso': 'HAD-02',\n",
       "  'Jardim Alfredo': 'MB-30',\n",
       "  'Jardim Ibirapuera': 'MB-02',\n",
       "  'Jardim Marciano': 'CL-26',\n",
       "  'Palacio Monroe': 'HPJ-07',\n",
       "  'Vila Clara - Ubs': 'JA-04',\n",
       "  'Tantas Palavras': 'IQ-14',\n",
       "  'Jardim Maraba': 'CS-31',\n",
       "  'Jardim Elba': 'SB-11',\n",
       "  'Sao Vicente': 'HIQ-01',\n",
       "  'Parque Boa Esperanca': 'SM-33',\n",
       "  'Graficos': 'CT-06',\n",
       "  'Barrocada III': 'JT-21'}}"
      ]
     },
     "execution_count": 6,
     "metadata": {},
     "output_type": "execute_result"
    }
   ],
   "source": [
    "areas[['RG_RISCO', 'SIGLA']].set_index('RG_RISCO').to_dict()"
   ]
  },
  {
   "cell_type": "markdown",
   "metadata": {},
   "source": [
    "# Lista de relatórios gerados"
   ]
  },
  {
   "cell_type": "code",
   "execution_count": 1,
   "metadata": {},
   "outputs": [],
   "source": [
    "rel_a_fazer = {\n",
    "    'Jardim Elba':'SB-11',\n",
    "    'Fazenda da Juta III': 'HSB-07',\n",
    "    'Brás de Abreu': 'HAD-04',\n",
    "    'Maria Cursi': 'SM-03',\n",
    "    'Jardim Umuarama II': 'CL-12',\n",
    "    'Tanque': 'SB-06',\n",
    "    'Jardim Filhos da Terra': 'JT-02',\n",
    "    'Kaei Kawahira': 'SM-29',\n",
    "    'Parque Boa Esperança': 'SM-33',\n",
    "    'Jardim Hebrom': 'JT-05',\n",
    "    'Jardim Jangadeiro': 'MB-33',\n",
    "    'Taquaritiba': 'JA-09',\n",
    "    'Vila Ayrosa': 'JT-08',\n",
    "    'Iguaçu': 'SB-08',\n",
    "    'Vila Praia': 'CL-21',\n",
    "    'Ushikichi Kamiya': 'JT-22',\n",
    "    'Jardim Marciano': 'CL-26',\n",
    "    'Barrocada III': 'JT-21',\n",
    "    'Palácio Monroe': 'HPJ-07',\n",
    "\n",
    "    'Jardim das Maravilhas I': 'CT-03',\n",
    "    'Jardim Primavera II': 'HSB-03',\n",
    "    'Vila Flávia':'SM-16',\n",
    "    'Alameda das Roseiras':'JT-18',\n",
    "    'Gráficos': 'CT-06',\n",
    "    'Jardim Maraba':'IQ-17',\n",
    "    'Chacara Bandeirante':'MB-53',\n",
    "    \n",
    "    'Vila Bela II': 'HSM-11',\n",
    "    'Cidade Ipava II': 'MB-60',\n",
    "    'Córrego Pintadinho': 'HIQ-04',\n",
    "    'Taquari': 'HIQ-09',\n",
    "    'Parque São José IV': 'CS-09',\n",
    "    'Camarazal': 'BT-12',\n",
    "    'Jardim São Jorge': 'AD-13',\n",
    "    'Jardim Macedônia': 'CL-29',\n",
    "    'Francisco Munhoz Filho': 'IQ-15',\n",
    "    'Piscinão': 'SM-25',\n",
    "    'Fazendinha': 'LA-07',\n",
    "    'Murillo Machado': 'SM-23',\n",
    "    'Souza Ramos': 'CT-07',\n",
    "    'Jardim Santa Terezinha IV': 'IQ-03',\n",
    "    'Jardim Santa Terezinha III': 'IQ-02',\n",
    "    'Ministro Correia De Castro': 'FO-16',\n",
    "    'Nossa Senhora Assunção': 'BT-17',\n",
    "    'Recanto Verde I': 'SM-01',\n",
    "    'Morumbizinho': 'SM-32',\n",
    "    'Jardim Filhos Da Terra': 'JT-02',\n",
    "    'Jardim Martini': 'AD-22',\n",
    "    'Jardim São Carlos': 'HAD-21',\n",
    "    'Santa Etelvina III': 'CT-08',\n",
    "    # PROBLEMA - Não está pronto: 'Engordador': 'JT-12',\n",
    "    'Jardim Solange': 'SM-31',\n",
    "    'Guaicuri II': 'HAD-25',\n",
    "    'Jardim Rebouças': 'CL-18',\n",
    "    'Recanto': 'SM-26',\n",
    "    'Rio Claro II': 'SM-21',\n",
    "    'Jardim Das Laranjeiras': 'SM-02',\n",
    "    'Sebastião Afonso': 'HAD-02',\n",
    "    'Jardim Alfredo': 'MB-30',\n",
    "    'Jardim Ibirapuera': 'MB-02',\n",
    "    'Vila Clara - Ubs': 'JA-04',\n",
    "    'Tantas Palavras': 'IQ-14',\n",
    "    'São Vicente': 'HIQ-01',\n",
    "   'Mata Virgem - Água Santa': 'AD-11'\n",
    "}"
   ]
  },
  {
   "cell_type": "code",
   "execution_count": 8,
   "metadata": {},
   "outputs": [],
   "source": [
    "list_of_siglas = list(rel_a_fazer.values())"
   ]
  },
  {
   "cell_type": "code",
   "execution_count": 22,
   "metadata": {},
   "outputs": [],
   "source": [
    "df_rel = pd.Series(rel_a_fazer, index=rel_a_fazer.keys()).reset_index()\n",
    "df_rel.columns = ['Nome', 'Sigla']"
   ]
  },
  {
   "cell_type": "code",
   "execution_count": 23,
   "metadata": {},
   "outputs": [],
   "source": [
    "dados = pd.read_csv('/Users/anabottura/PycharmProjects/FDTE/auto_relatorios/data/apex_tables/Dados das Áreas de Risco.csv', encoding='latin1')"
   ]
  },
  {
   "cell_type": "code",
   "execution_count": 26,
   "metadata": {},
   "outputs": [],
   "source": [
    "dados_merge = dados.merge(df_rel, how='outer', left_on='Setor',right_on='Sigla', indicator=True)"
   ]
  },
  {
   "cell_type": "code",
   "execution_count": 33,
   "metadata": {},
   "outputs": [
    {
     "data": {
      "text/plain": [
       "{'Setor': {'AVENIDA SANTO AFONSO III': 'AD-03',\n",
       "  'PEDRA SOBRE PEDRA': 'AD-07',\n",
       "  'AMERICANOPOLIS I': 'AD-14',\n",
       "  'ABACATEIRO': 'AD-16',\n",
       "  'VILA DALVA': 'BT-03',\n",
       "  'JARDIM ARPOADOR': 'BT-06',\n",
       "  'JARDIM DABRIL II': 'BT-10',\n",
       "  'PONTA DA PRAIA': 'BT-25',\n",
       "  'JARDIM LIDIA': 'CL-01',\n",
       "  'JARDIM COMERCIAL II': 'CL-03',\n",
       "  'JARDIM COMERCIAL III': 'CL-32',\n",
       "  'MORRO DA LUA': 'CL-33',\n",
       "  'VALE DAS VIRTUDES I': 'CL-35',\n",
       "  'VILA CAIS': 'CL-36',\n",
       "  'SIMAO DE MIRANDA': 'CL-38',\n",
       "  'JARDIM VARGINHA II': 'CS-15',\n",
       "  'FUTURO MELHOR': 'CV-08',\n",
       "  'CORREGO DO BISPO': 'CV-10',\n",
       "  'ODASSI NAZZALI': 'CV-12',\n",
       "  'DARIO RIBEIRO': 'CV-14',\n",
       "  'EUCALIPTOS': 'CV-16',\n",
       "  'PAPATERRA': 'CV-22',\n",
       "  'VILA UNIAO': 'EM-04',\n",
       "  'JARDIM DAMASCENO II': 'FO-02',\n",
       "  'RECANTO DAS ESTRELAS': 'FO-10',\n",
       "  'HUGO ITALO MERIGO': 'FO-13',\n",
       "  'MARE VERMELHA I': 'IQ-07',\n",
       "  'JOAQUIM MEIRA DE SIQUEIRA': 'IQ-08',\n",
       "  'VILA CLARA - RUA MARJORIE': 'JA-02',\n",
       "  'VILA NOVA GALVAO': 'JT-06',\n",
       "  'JARDIM FONTALIS': 'JT-10',\n",
       "  'ENGORDADOR': 'JT-12',\n",
       "  'RECANTO SAO JOAO': 'JT-23',\n",
       "  'JARDIM COPACABANA': 'MB-07',\n",
       "  'FELICIDADE': 'MB-13',\n",
       "  'CHACARA SANTANA': 'MB-20',\n",
       "  'JARDIM CAPELINHA': 'MB-25',\n",
       "  'JARDIM SAO MANUEL': 'MB-31',\n",
       "  'JARDIM THOMAZ': 'MB-37',\n",
       "  'CHACARA SANTA MARIA I': 'MB-45',\n",
       "  'HUGO ITALO MERIGO II': 'FO-27',\n",
       "  'QUADRA DE FUTEBOL': 'FO-28',\n",
       "  'TRIBO': 'FO-29',\n",
       "  'CANTIDIO SAMPAIO 4541': 'FO-30',\n",
       "  'NOVA UNIAO': 'FO-31',\n",
       "  'CRISTAL': 'FO-33',\n",
       "  'ILHA DE ITAPARICA': 'FO-34',\n",
       "  'JARDIM ITAPURA II': 'HAD-14',\n",
       "  'ZAVUVUS': 'HAD-16',\n",
       "  'AUGUSTO GONZAGA': 'HAD-17',\n",
       "  'CANTO DA NOITE': 'HAD-20',\n",
       "  'JARDIM SAO JORGE': 'HAD-22',\n",
       "  'JARDIM SELMA': 'HAD-23',\n",
       "  'KERALUX': 'HEM-03',\n",
       "  'JARDIM IMBE': 'MB-62'}}"
      ]
     },
     "execution_count": 33,
     "metadata": {},
     "output_type": "execute_result"
    }
   ],
   "source": [
    "rel_faltantes = dados_merge[dados_merge['_merge'] == 'left_only'][['Área de Risco', 'Setor']]\n",
    "rel_faltantes.set_index('Área de Risco').to_dict()"
   ]
  },
  {
   "cell_type": "code",
   "execution_count": null,
   "metadata": {},
   "outputs": [],
   "source": []
  }
 ],
 "metadata": {
  "kernelspec": {
   "display_name": "env",
   "language": "python",
   "name": "python3"
  },
  "language_info": {
   "codemirror_mode": {
    "name": "ipython",
    "version": 3
   },
   "file_extension": ".py",
   "mimetype": "text/x-python",
   "name": "python",
   "nbconvert_exporter": "python",
   "pygments_lexer": "ipython3",
   "version": "3.8.3"
  }
 },
 "nbformat": 4,
 "nbformat_minor": 2
}
