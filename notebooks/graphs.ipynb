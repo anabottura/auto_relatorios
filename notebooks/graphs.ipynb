{
 "cells": [
  {
   "cell_type": "code",
   "execution_count": 1,
   "metadata": {},
   "outputs": [],
   "source": [
    "import pandas as pd\n",
    "import matplotlib.pyplot as plt\n",
    "import matplotlib.colors as mcolors\n",
    "import seaborn as sns\n",
    "import numpy as np"
   ]
  },
  {
   "cell_type": "code",
   "execution_count": null,
   "metadata": {},
   "outputs": [],
   "source": [
    "sns.set_theme(style='whitegrid')"
   ]
  },
  {
   "cell_type": "markdown",
   "metadata": {},
   "source": [
    "Definir área de risco"
   ]
  },
  {
   "cell_type": "code",
   "execution_count": 2,
   "metadata": {},
   "outputs": [],
   "source": [
    "a_risco = \"MORRO DA LUA\""
   ]
  },
  {
   "cell_type": "code",
   "execution_count": 3,
   "metadata": {},
   "outputs": [],
   "source": [
    "colours = pd.Series({'R1':'#4FC26A','R2':'#F0E113','R3':'#FF8801','R4':'#BF243C'})\n",
    "colours.name = 'colours'"
   ]
  },
  {
   "cell_type": "markdown",
   "metadata": {},
   "source": [
    "Importar tabelas do Apex"
   ]
  },
  {
   "cell_type": "code",
   "execution_count": 4,
   "metadata": {},
   "outputs": [
    {
     "name": "stderr",
     "output_type": "stream",
     "text": [
      "/Users/anabottura/PycharmProjects/FDTE/auto_relatorios/env/lib/python3.8/site-packages/openpyxl/styles/stylesheet.py:226: UserWarning: Workbook contains no default style, apply openpyxl's default\n",
      "  warn(\"Workbook contains no default style, apply openpyxl's default\")\n",
      "/Users/anabottura/PycharmProjects/FDTE/auto_relatorios/env/lib/python3.8/site-packages/openpyxl/styles/stylesheet.py:226: UserWarning: Workbook contains no default style, apply openpyxl's default\n",
      "  warn(\"Workbook contains no default style, apply openpyxl's default\")\n",
      "/Users/anabottura/PycharmProjects/FDTE/auto_relatorios/env/lib/python3.8/site-packages/openpyxl/styles/stylesheet.py:226: UserWarning: Workbook contains no default style, apply openpyxl's default\n",
      "  warn(\"Workbook contains no default style, apply openpyxl's default\")\n",
      "/Users/anabottura/PycharmProjects/FDTE/auto_relatorios/env/lib/python3.8/site-packages/openpyxl/styles/stylesheet.py:226: UserWarning: Workbook contains no default style, apply openpyxl's default\n",
      "  warn(\"Workbook contains no default style, apply openpyxl's default\")\n"
     ]
    }
   ],
   "source": [
    "area_cadastro = pd.read_excel(\"../data/apex_tables/area_cadastro-2.xlsx\")\n",
    "casa = pd.read_excel(\"../data/apex_tables/casa.xlsx\")\n",
    "ficha = pd.read_excel(\"../data/apex_tables/ficha.xlsx\")\n",
    "hierarquia = pd.read_excel(\"../data/apex_tables/hierarquia.xlsx\")"
   ]
  },
  {
   "cell_type": "code",
   "execution_count": null,
   "metadata": {},
   "outputs": [],
   "source": [
    "print(f\"area_cadastro: {area_cadastro.columns}\")\n",
    "print(f\"casa: {casa.columns}\")\n",
    "print(f\"ficha: {ficha.columns}\")\n",
    "print(f\"hierarquia: {hierarquia.columns}\")"
   ]
  },
  {
   "cell_type": "markdown",
   "metadata": {},
   "source": [
    "## Coletar dados para serem usados nos textos"
   ]
  },
  {
   "cell_type": "code",
   "execution_count": 5,
   "metadata": {},
   "outputs": [],
   "source": [
    "dados_fichas_areas = ficha.merge(area_cadastro,left_on='ID_AREA_FICHA', right_on='ID_CAD_AREA') # juntar dados das areas associadas as fichas"
   ]
  },
  {
   "cell_type": "code",
   "execution_count": 6,
   "metadata": {},
   "outputs": [],
   "source": [
    "areas_fichas_casas = dados_fichas_areas.merge(casa, right_on='ID_CSA', left_on='ID_CSA_FICHA')\n",
    "# area_ficha_casa[(area_ficha_casa['RG_RISCO'] == a_risco) & (area_ficha_casa['ENTREVISTA_FICHA'] == 'SIM')]['QTDE_MORADORES_CSA'].sum()\n",
    "# areas_fichas_casas[(areas_fichas_casas['RG_RISCO'] == a_risco)].groupby(['CLASS_AREA','ENTREVISTA_FICHA'], dropna=False)['QTDE_MORADORES_CSA'].sum().reset_index()\n",
    "# areas_fichas_casas[(areas_fichas_casas['RG_RISCO'] == a_risco)].groupby(['CLASS_AREA','ENTREVISTA_FICHA'], dropna=False)['ID_FICHA'].count().reset_index()\n",
    "# areas_fichas_casas"
   ]
  },
  {
   "cell_type": "code",
   "execution_count": 7,
   "metadata": {},
   "outputs": [],
   "source": [
    "def get_moradores(area_fichas_casas, a_risco, grau_risco):\n",
    "    \n",
    "    if grau_risco in areas_fichas_casas[(areas_fichas_casas['RG_RISCO'] == a_risco)]['CLASS_AREA'].unique():\n",
    "        moradores_resp_risco = area_fichas_casas[(area_fichas_casas['RG_RISCO'] == a_risco)].groupby(['CLASS_AREA','ENTREVISTA_FICHA'], dropna=False)['QTDE_MORADORES_CSA'].sum()\n",
    "        entrevistas_resp_risco = areas_fichas_casas[(areas_fichas_casas['RG_RISCO'] == a_risco)].groupby(['CLASS_AREA','ENTREVISTA_FICHA'], dropna=False)['ID_FICHA'].count()\n",
    "        moradores_sim = moradores_resp_risco.loc[grau_risco, 'SIM']\n",
    "        entrevista_sim = entrevistas_resp_risco.loc[grau_risco, 'SIM']\n",
    "        entrevista_nao = entrevistas_resp_risco.loc[grau_risco, 'NÃO']\n",
    "        media_moradores = moradores_sim/entrevista_sim\n",
    "        total_moradores = round(media_moradores * entrevista_nao) + moradores_sim\n",
    "\n",
    "    else:\n",
    "        total_moradores = 0\n",
    "    return total_moradores\n",
    "\n",
    "def get_familias(area_fichas_casas, a_risco):\n",
    "    \n",
    "    familias_resp_risco = area_fichas_casas[(area_fichas_casas['RG_RISCO'] == a_risco)].groupby(['ENTREVISTA_FICHA'], dropna=False)['QTDE_FAMILIAS_CSA'].sum()\n",
    "    entrevistas_resp_risco = areas_fichas_casas[(areas_fichas_casas['RG_RISCO'] == a_risco)].groupby(['ENTREVISTA_FICHA'], dropna=False)['ID_FICHA'].count()\n",
    "    familias_sim = familias_resp_risco.loc['SIM']\n",
    "    entrevista_sim = entrevistas_resp_risco.loc['SIM']\n",
    "    entrevista_nao = entrevistas_resp_risco.loc['NÃO']\n",
    "    media_familias = familias_sim/entrevista_sim\n",
    "    total_familias = round(media_familias * entrevista_nao) + familias_sim\n",
    "\n",
    "    return total_familias\n"
   ]
  },
  {
   "cell_type": "code",
   "execution_count": null,
   "metadata": {},
   "outputs": [],
   "source": [
    "hierarquia_area = hierarquia[hierarquia['NOME'] == a_risco].iat[0,0]\n",
    "# moradias_defesa - tem que pegar da tabela DEFESA CIVIL\n",
    "moradias_fdte = dados_fichas_areas[dados_fichas_areas.RG_RISCO == a_risco]['ID_FICHA'].count()\n",
    "moradores_r1 = get_moradores(areas_fichas_casas, a_risco, 'R1')\n",
    "moradores_r2 = get_moradores(areas_fichas_casas, a_risco, 'R2')\n",
    "moradores_r3 = get_moradores(areas_fichas_casas, a_risco, 'R3')\n",
    "moradores_r4 = get_moradores(areas_fichas_casas, a_risco, 'R4')\n",
    "total_moradores = moradores_r1+moradores_r2+moradores_r3+moradores_r4\n",
    "total_familias = get_familias(areas_fichas_casas, a_risco)\n",
    "total_criancas = areas_fichas_casas[(areas_fichas_casas['RG_RISCO'] == a_risco)]['CRIANCA_CSA'].sum()\n",
    "total_idosos = areas_fichas_casas[(areas_fichas_casas['RG_RISCO'] == a_risco)]['IDOSO_CSA'].sum()\n",
    "total_pcds = areas_fichas_casas[(areas_fichas_casas['RG_RISCO'] == a_risco)]['PCD_CSA'].sum()\n",
    "fichas_sem_id = dados_fichas_areas[(dados_fichas_areas['RG_RISCO'] == a_risco)]['ID_ENTREVISTADO_FICHA'].isna().sum() + \\\n",
    "                dados_fichas_areas[(dados_fichas_areas['RG_RISCO'] == a_risco)]['ID_CSA_FICHA'].isna().sum()"
   ]
  },
  {
   "cell_type": "markdown",
   "metadata": {},
   "source": [
    "## Plotar gráficos"
   ]
  },
  {
   "cell_type": "code",
   "execution_count": 8,
   "metadata": {},
   "outputs": [],
   "source": [
    "def define_text_color(patch):\n",
    "    color_thr = 255*(patch.get_facecolor()[0]*0.299 + patch.get_facecolor()[1]*0.587 + patch.get_facecolor()[0]*0.114)\n",
    "    if color_thr > 150:\n",
    "        c = 'black'\n",
    "    else:\n",
    "        c = 'white'\n",
    "    \n",
    "    return c\n",
    "\n",
    "def add_bar_labels(ax, labels, pad=-26):\n",
    "    print(ax.get_position())\n",
    "    \n",
    "    for i, rect in enumerate(ax.patches):\n",
    "        \n",
    "        c = define_text_color(rect)\n",
    "            \n",
    "        bar_height = rect.get_height()\n",
    "        if bar_height < 30:\n",
    "            n_pad=2\n",
    "            c='black'\n",
    "        else:\n",
    "            n_pad = pad\n",
    "        \n",
    "        ax.text(rect.get_x() + rect.get_width()/2, bar_height+n_pad, labels[i], ha='center', va='baseline', color = c, fontsize=12)\n",
    "\n",
    "def generate_donut_graph(dados):\n",
    "    \n",
    "    fig, ax = plt.subplots(subplot_kw=dict(aspect=\"equal\"))\n",
    "    percentagem = dados/dados.sum()*100\n",
    "    wedges, text1 = plt.pie(dados, wedgeprops=dict(width=0.5), colors=sns.set_palette('Set2'), startangle=45)\n",
    "    plt.legend(dados.index, loc='right', bbox_to_anchor=(0, 0., 1.6, 1))\n",
    "\n",
    "    kw = dict(arrowprops=dict(arrowstyle=\"-\", color='black'), zorder=0, va=\"center\") # propriedades da\n",
    "\n",
    "    for i, p in enumerate(wedges):\n",
    "        ang = (p.theta2 - p.theta1)/2. + p.theta1\n",
    "        y = np.sin(np.deg2rad(ang))\n",
    "        x = np.cos(np.deg2rad(ang))\n",
    "        \n",
    "        if percentagem[i] < 5:\n",
    "            horizontalalignment = {-1: \"right\", 1: \"left\"}[int(np.sign(x))]\n",
    "            connectionstyle = f\"angle,angleA=0,angleB={ang}\"\n",
    "            kw[\"arrowprops\"].update({\"connectionstyle\": connectionstyle})\n",
    "            if percentagem[i] <= 1:\n",
    "                print(1-percentagem[i])\n",
    "                ax.annotate('%.0f'%percentagem[i]+'%', xy=(x, y), xytext=(0.95*((i)*0.05+np.sign(x)), 0.95*(y+(i)*0.1)),\n",
    "                    horizontalalignment=horizontalalignment, **kw)\n",
    "            else:\n",
    "                ax.annotate('%.0f'%percentagem[i]+'%', xy=(x, y), xytext=(1.35*np.sign(x), 1.4*y),\n",
    "                        horizontalalignment=horizontalalignment, **kw)\n",
    "        else:\n",
    "            c = define_text_color(p)\n",
    "            ax.annotate('%.0f'%percentagem[i]+'%', xy=(0.75*x, 0.75*y), horizontalalignment='center', verticalalignment='center', color=c)\n",
    "            \n",
    "    return fig, ax\n"
   ]
  },
  {
   "cell_type": "markdown",
   "metadata": {},
   "source": [
    "### Gráfico Classificação de risco das moradias"
   ]
  },
  {
   "cell_type": "code",
   "execution_count": 9,
   "metadata": {},
   "outputs": [
    {
     "name": "stdout",
     "output_type": "stream",
     "text": [
      "Bbox(x0=0.125, y0=0.10999999999999999, x1=0.9, y1=0.88)\n"
     ]
    },
    {
     "data": {
      "image/png": "[encoded data removed]",
      "text/plain": [
       "<Figure size 640x480 with 1 Axes>"
      ]
     },
     "metadata": {},
     "output_type": "display_data"
    }
   ],
   "source": [
    "fig = plt.Figure(figsize=(10,5))\n",
    "dados_risco_moradias = dados_fichas_areas[dados_fichas_areas['RG_RISCO'] == a_risco]\n",
    "dados_agregados = dados_risco_moradias.groupby([\"CLASS_AREA\"]).count()['ID_FICHA'].reset_index()\n",
    "dados_agregados.columns = ['Risco','Quantidade de Moradias']\n",
    "dados_agregados = pd.merge(dados_agregados, colours, left_on='Risco', right_index=True)\n",
    "sns.set_theme(style='whitegrid')\n",
    "ax = sns.barplot(dados_agregados, x='Risco', y='Quantidade de Moradias', hue='colours', palette=list(dados_agregados['colours']), legend=False)\n",
    "ax.set_title('Classificação de risco das moradias')\n",
    "add_bar_labels(ax, dados_agregados['Quantidade de Moradias'])\n",
    "plt.tight_layout()\n",
    "ax.get_figure().savefig('../data/html_outputs/images/risco_moradias.png')"
   ]
  },
  {
   "cell_type": "markdown",
   "metadata": {},
   "source": [
    "### Gráfico Quantidade de Moradias por setor de risco"
   ]
  },
  {
   "cell_type": "code",
   "execution_count": 12,
   "metadata": {},
   "outputs": [
    {
     "name": "stdout",
     "output_type": "stream",
     "text": [
      "Bbox(x0=0.125, y0=0.10999999999999999, x1=0.9, y1=0.88)\n"
     ]
    },
    {
     "data": {
      "image/png": "[encoded data removed]",
      "text/plain": [
       "<Figure size 640x480 with 1 Axes>"
      ]
     },
     "metadata": {},
     "output_type": "display_data"
    }
   ],
   "source": [
    "fig = plt.Figure(figsize=(10,5))\n",
    "dados_risco_moradias = dados_fichas_areas[dados_fichas_areas['RG_RISCO'] == a_risco]\n",
    "dados_agregados = dados_risco_moradias.groupby([\"SETOR\"]).count()['ID_FICHA'].reset_index()\n",
    "dados_agregados.columns = ['Setor','Quantidade de Moradias']\n",
    "sns.set_theme(style='whitegrid')\n",
    "ax = sns.barplot(dados_agregados, x='Setor', y='Quantidade de Moradias')\n",
    "ax.set_title('Quantidade de moradias por setor de risco')\n",
    "plt.xticks(rotation = 45, horizontalalignment='right')\n",
    "add_bar_labels(ax, dados_agregados['Quantidade de Moradias'])\n",
    "dados_agregados\n",
    "# fig.canvas.draw()\n",
    "# r = fig.canvas\n",
    "# r\n",
    "plt.tight_layout()\n",
    "# ax.get_figure().savefig('../data/html_outputs/images/moradias_por_setor.png')"
   ]
  },
  {
   "cell_type": "code",
   "execution_count": null,
   "metadata": {},
   "outputs": [],
   "source": [
    "dados_risco_moradias.groupby([\"SETOR\"]).count()['ID_FICHA'].reset_index()"
   ]
  },
  {
   "cell_type": "markdown",
   "metadata": {},
   "source": [
    "### Gráfico Tipo de uso dos imoveis"
   ]
  },
  {
   "cell_type": "code",
   "execution_count": null,
   "metadata": {},
   "outputs": [],
   "source": [
    "fig = plt.Figure(figsize=(10,5))\n",
    "uso_csa = areas_fichas_casas[areas_fichas_casas['RG_RISCO'] == a_risco].groupby('USO_CSA', dropna=False)['ID_FICHA'].count()\n",
    "uso_csa = uso_csa.sort_values(ascending=False)\n",
    "fig, ax = generate_donut_graph(uso_csa)\n",
    "ax.set_title('Tipo de uso dos imóveis', position=(0.8, 1))\n",
    "plt.tight_layout()\n",
    "ax.get_figure().savefig('../data/html_outputs/images/uso_imoveis.png', bbox_inches='tight')"
   ]
  },
  {
   "cell_type": "code",
   "execution_count": null,
   "metadata": {},
   "outputs": [],
   "source": [
    "fig = plt.Figure(figsize=(10,5))\n",
    "acab_csa = areas_fichas_casas[areas_fichas_casas['RG_RISCO'] == a_risco].groupby('ACAB_CSA', dropna=False)['ID_FICHA'].count()\n",
    "fig, ax = generate_donut_graph(acab_csa)\n",
    "ax.set_title('Nível do acabamento das moradias', position=(0.8, 1))\n",
    "plt.tight_layout()\n",
    "ax.get_figure().savefig('../data/html_outputs/images/acab_imoveis.png', bbox_inches='tight')"
   ]
  },
  {
   "cell_type": "code",
   "execution_count": null,
   "metadata": {},
   "outputs": [],
   "source": [
    "fig = plt.Figure(figsize=(10,5))\n",
    "acab_csa = areas_fichas_casas[areas_fichas_casas['RG_RISCO'] == a_risco].groupby('TIPO_CSA', dropna=False)['ID_FICHA'].count()\n",
    "acab_csa = acab_csa.sort_values(ascending=False)\n",
    "fig, ax = generate_donut_graph(acab_csa)\n",
    "ax.set_title('Tipologia das moradias', position=(0.8, 1))\n",
    "plt.tight_layout()\n",
    "ax.get_figure().savefig('../data/html_outputs/images/tipologia_imoveis.png', bbox_inches='tight')"
   ]
  },
  {
   "cell_type": "code",
   "execution_count": null,
   "metadata": {},
   "outputs": [],
   "source": [
    "fig = plt.Figure(figsize=(10,5))\n",
    "piso_csa = areas_fichas_casas[areas_fichas_casas['RG_RISCO'] == a_risco].groupby('PISO_CSA', dropna=False)['ID_FICHA'].count()\n",
    "piso_csa = piso_csa.sort_values(ascending=False)\n",
    "fig, ax = generate_donut_graph(piso_csa)\n",
    "ax.set_title('Tipo de piso', position=(0.8, 1))\n",
    "plt.tight_layout()\n",
    "ax.get_figure().savefig('../data/html_outputs/images/tipo_piso.png', bbox_inches='tight')"
   ]
  },
  {
   "cell_type": "code",
   "execution_count": null,
   "metadata": {},
   "outputs": [],
   "source": [
    "fig = plt.Figure(figsize=(10,5))\n",
    "telhado_csa = areas_fichas_casas[areas_fichas_casas['RG_RISCO'] == a_risco].groupby('TELHADO_CSA', dropna=False)['ID_FICHA'].count()\n",
    "telhado_csa = telhado_csa.sort_values(ascending=False)\n",
    "fig, ax = generate_donut_graph(telhado_csa)\n",
    "ax.set_title('Tipo de cobertura', position=(0.8, 1))\n",
    "plt.tight_layout()\n",
    "ax.get_figure().savefig('../data/html_outputs/images/tipo_telhado.png', bbox_inches='tight')"
   ]
  },
  {
   "cell_type": "code",
   "execution_count": null,
   "metadata": {},
   "outputs": [],
   "source": [
    "fig = plt.Figure(figsize=(10,5))\n",
    "probl_csa = areas_fichas_casas[areas_fichas_casas['RG_RISCO'] == a_risco].groupby('PROB_ESTRU_CSA', dropna=False)['ID_FICHA'].count()\n",
    "probl_csa = probl_csa.sort_values(ascending=False)\n",
    "fig, ax = generate_donut_graph(probl_csa)\n",
    "ax.set_title('Há riscos estruturais nas moradias?', position=(0.8, 1))\n",
    "plt.tight_layout()\n",
    "ax.get_figure().savefig('../data/html_outputs/images/probl_imoveis.png', bbox_inches='tight')"
   ]
  },
  {
   "cell_type": "code",
   "execution_count": null,
   "metadata": {},
   "outputs": [],
   "source": [
    "fig = plt.Figure(figsize=(10,5))\n",
    "npavmto_csa = areas_fichas_casas[areas_fichas_casas['RG_RISCO'] == a_risco].groupby('NPVTO_CSA', dropna=False)['ID_FICHA'].count().reset_index()\n",
    "npavmto_csa\n",
    "npavmto_csa.columns = ['Número de pavimentos','Quantidade de Moradias']\n",
    "ax = sns.barplot(npavmto_csa, x='Número de pavimentos', y='Quantidade de Moradias')\n",
    "ax.set_title('Quantidade de pavimentos')\n",
    "add_bar_labels(ax, npavmto_csa['Quantidade de Moradias'], pad=-20)\n",
    "plt.tight_layout()\n",
    "ax.get_figure().savefig('../data/html_outputs/images/pav_imoveis.png', bbox_inches='tight')"
   ]
  },
  {
   "cell_type": "code",
   "execution_count": null,
   "metadata": {},
   "outputs": [],
   "source": []
  }
 ],
 "metadata": {
  "kernelspec": {
   "display_name": "env",
   "language": "python",
   "name": "python3"
  },
  "language_info": {
   "codemirror_mode": {
    "name": "ipython",
    "version": 3
   },
   "file_extension": ".py",
   "mimetype": "text/x-python",
   "name": "python",
   "nbconvert_exporter": "python",
   "pygments_lexer": "ipython3",
   "version": "3.8.3"
  }
 },
 "nbformat": 4,
 "nbformat_minor": 2
}
